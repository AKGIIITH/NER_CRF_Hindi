{
 "cells": [
  {
   "cell_type": "code",
   "execution_count": 1,
   "id": "9628aef1-06cd-4140-a645-b5b6122b04a6",
   "metadata": {
    "jupyter": {
     "source_hidden": true
    }
   },
   "outputs": [],
   "source": [
    "import pandas"
   ]
  },
  {
   "cell_type": "code",
   "execution_count": 2,
   "id": "dbde34f6-a587-4f29-9658-c2613770d4a7",
   "metadata": {
    "collapsed": true,
    "jupyter": {
     "outputs_hidden": true,
     "source_hidden": true
    }
   },
   "outputs": [
    {
     "name": "stdout",
     "output_type": "stream",
     "text": [
      "Defaulting to user installation because normal site-packages is not writeable\n",
      "Requirement already satisfied: datasets in /home/akg/.local/lib/python3.10/site-packages (2.19.0)\n",
      "Requirement already satisfied: tqdm>=4.62.1 in /home/akg/.local/lib/python3.10/site-packages (from datasets) (4.66.2)\n",
      "Requirement already satisfied: xxhash in /home/akg/.local/lib/python3.10/site-packages (from datasets) (3.4.1)\n",
      "Requirement already satisfied: numpy>=1.17 in /home/akg/.local/lib/python3.10/site-packages (from datasets) (1.26.4)\n",
      "Requirement already satisfied: multiprocess in /home/akg/.local/lib/python3.10/site-packages (from datasets) (0.70.16)\n",
      "Requirement already satisfied: huggingface-hub>=0.21.2 in /home/akg/.local/lib/python3.10/site-packages (from datasets) (0.23.0)\n",
      "Requirement already satisfied: fsspec[http]<=2024.3.1,>=2023.1.0 in /home/akg/.local/lib/python3.10/site-packages (from datasets) (2024.3.1)\n",
      "Requirement already satisfied: pyarrow>=12.0.0 in /home/akg/.local/lib/python3.10/site-packages (from datasets) (16.0.0)\n",
      "Requirement already satisfied: filelock in /home/akg/.local/lib/python3.10/site-packages (from datasets) (3.14.0)\n",
      "Requirement already satisfied: pyarrow-hotfix in /home/akg/.local/lib/python3.10/site-packages (from datasets) (0.6)\n",
      "Requirement already satisfied: requests>=2.19.0 in /home/akg/.local/lib/python3.10/site-packages (from datasets) (2.31.0)\n",
      "Requirement already satisfied: aiohttp in /home/akg/.local/lib/python3.10/site-packages (from datasets) (3.9.5)\n",
      "Requirement already satisfied: pandas in /home/akg/.local/lib/python3.10/site-packages (from datasets) (2.2.1)\n",
      "Requirement already satisfied: packaging in /home/akg/.local/lib/python3.10/site-packages (from datasets) (23.2)\n",
      "Requirement already satisfied: pyyaml>=5.1 in /usr/lib/python3/dist-packages (from datasets) (5.4.1)\n",
      "Requirement already satisfied: dill<0.3.9,>=0.3.0 in /home/akg/.local/lib/python3.10/site-packages (from datasets) (0.3.8)\n",
      "Requirement already satisfied: frozenlist>=1.1.1 in /home/akg/.local/lib/python3.10/site-packages (from aiohttp->datasets) (1.4.1)\n",
      "Requirement already satisfied: yarl<2.0,>=1.0 in /home/akg/.local/lib/python3.10/site-packages (from aiohttp->datasets) (1.9.4)\n",
      "Requirement already satisfied: async-timeout<5.0,>=4.0 in /home/akg/.local/lib/python3.10/site-packages (from aiohttp->datasets) (4.0.3)\n",
      "Requirement already satisfied: multidict<7.0,>=4.5 in /home/akg/.local/lib/python3.10/site-packages (from aiohttp->datasets) (6.0.5)\n",
      "Requirement already satisfied: aiosignal>=1.1.2 in /home/akg/.local/lib/python3.10/site-packages (from aiohttp->datasets) (1.3.1)\n",
      "Requirement already satisfied: attrs>=17.3.0 in /home/akg/.local/lib/python3.10/site-packages (from aiohttp->datasets) (23.2.0)\n",
      "Requirement already satisfied: typing-extensions>=3.7.4.3 in /home/akg/.local/lib/python3.10/site-packages (from huggingface-hub>=0.21.2->datasets) (4.9.0)\n",
      "Requirement already satisfied: urllib3<3,>=1.21.1 in /usr/lib/python3/dist-packages (from requests>=2.19.0->datasets) (1.26.5)\n",
      "Requirement already satisfied: certifi>=2017.4.17 in /usr/lib/python3/dist-packages (from requests>=2.19.0->datasets) (2020.6.20)\n",
      "Requirement already satisfied: charset-normalizer<4,>=2 in /home/akg/.local/lib/python3.10/site-packages (from requests>=2.19.0->datasets) (3.3.2)\n",
      "Requirement already satisfied: idna<4,>=2.5 in /usr/lib/python3/dist-packages (from requests>=2.19.0->datasets) (3.3)\n",
      "Requirement already satisfied: pytz>=2020.1 in /usr/lib/python3/dist-packages (from pandas->datasets) (2022.1)\n",
      "Requirement already satisfied: python-dateutil>=2.8.2 in /home/akg/.local/lib/python3.10/site-packages (from pandas->datasets) (2.8.2)\n",
      "Requirement already satisfied: tzdata>=2022.7 in /home/akg/.local/lib/python3.10/site-packages (from pandas->datasets) (2024.1)\n",
      "Requirement already satisfied: six>=1.5 in /usr/lib/python3/dist-packages (from python-dateutil>=2.8.2->pandas->datasets) (1.16.0)\n",
      "Note: you may need to restart the kernel to use updated packages.\n"
     ]
    }
   ],
   "source": [
    "pip install datasets"
   ]
  },
  {
   "cell_type": "code",
   "execution_count": 3,
   "id": "6ffe2ecd-1c52-4bca-bd24-737a38905cf2",
   "metadata": {
    "collapsed": true,
    "jupyter": {
     "outputs_hidden": true,
     "source_hidden": true
    },
    "scrolled": true
   },
   "outputs": [
    {
     "name": "stdout",
     "output_type": "stream",
     "text": [
      "CRF++: Yet Another CRF Tool Kit\n",
      "Copyright (C) 2005-2013 Taku Kudo, All rights reserved.\n",
      "\n",
      "reading training data: 100.. 200.. 300.. 400.. 500.. 600.. 700.. 800.. 900.. 1000.. 1100.. 1200.. 1300.. 1400.. 1500.. 1600.. 1700.. 1800.. 1900.. 2000.. 2100.. 2200.. 2300.. 2400.. 2500.. 2600.. 2700.. 2800.. 2900.. 3000.. 3100.. 3200.. 3300.. 3400.. 3500.. 3600.. 3700.. 3800.. 3900.. 4000.. 4100.. 4200.. 4300.. 4400.. 4500.. \n",
      "Done!0.07 s\n",
      "\n",
      "Number of sentences: 4516\n",
      "Number of features:  399760\n",
      "Number of thread(s): 12\n",
      "Freq:                1\n",
      "eta:                 0.00010\n",
      "C:                   1.00000\n",
      "shrinking size:      20\n",
      "iter=0 terr=0.99998 serr=1.00000 act=399760 obj=314207.41730 diff=1.00000\n",
      "iter=1 terr=0.05970 serr=0.70815 act=399760 obj=306276.75254 diff=0.02524\n",
      "iter=2 terr=0.05970 serr=0.70815 act=399760 obj=276407.99074 diff=0.09752\n",
      "iter=3 terr=0.05968 serr=0.70815 act=399760 obj=194946.02183 diff=0.29472\n",
      "iter=4 terr=0.06468 serr=0.68822 act=399760 obj=197930.38860 diff=0.01531\n",
      "iter=5 terr=0.06469 serr=0.68822 act=399760 obj=189808.72310 diff=0.04103\n",
      "iter=6 terr=0.06468 serr=0.68822 act=399760 obj=183286.01727 diff=0.03436\n",
      "iter=7 terr=0.06504 serr=0.73849 act=399760 obj=159029.26734 diff=0.13234\n",
      "iter=8 terr=0.06505 serr=0.73849 act=399760 obj=148641.63897 diff=0.06532\n",
      "iter=9 terr=0.07054 serr=0.71568 act=399760 obj=143411.12315 diff=0.03519\n",
      "iter=10 terr=0.07054 serr=0.71568 act=399760 obj=133152.32250 diff=0.07153\n",
      "iter=11 terr=0.06098 serr=0.71014 act=399760 obj=161930.19988 diff=0.21613\n",
      "iter=12 terr=0.06017 serr=0.70660 act=399760 obj=130419.07829 diff=0.19460\n",
      "iter=13 terr=0.06017 serr=0.70660 act=399760 obj=125538.90201 diff=0.03742\n",
      "iter=14 terr=0.07133 serr=0.71612 act=399760 obj=122700.68091 diff=0.02261\n",
      "iter=15 terr=0.06725 serr=0.69398 act=399760 obj=120300.30699 diff=0.01956\n",
      "iter=16 terr=0.06409 serr=0.73007 act=399760 obj=118604.28892 diff=0.01410\n",
      "iter=17 terr=0.06409 serr=0.73007 act=399760 obj=117829.17631 diff=0.00654\n",
      "iter=18 terr=0.05967 serr=0.70815 act=399760 obj=115185.84528 diff=0.02243\n",
      "iter=19 terr=0.07168 serr=0.76129 act=399760 obj=108428.48481 diff=0.05866\n",
      "iter=20 terr=0.09508 serr=0.77923 act=399760 obj=107142.30664 diff=0.01186\n",
      "iter=21 terr=0.07297 serr=0.76771 act=399760 obj=103908.88546 diff=0.03018\n",
      "iter=22 terr=0.08724 serr=0.81001 act=399760 obj=102922.54838 diff=0.00949\n",
      "iter=23 terr=0.07118 serr=0.76749 act=399760 obj=99674.29939 diff=0.03156\n",
      "iter=24 terr=0.07298 serr=0.71568 act=399760 obj=97477.68642 diff=0.02204\n",
      "iter=25 terr=0.06907 serr=0.75531 act=399760 obj=95971.68965 diff=0.01545\n",
      "iter=26 terr=0.06564 serr=0.74203 act=399760 obj=94358.93785 diff=0.01680\n",
      "iter=27 terr=0.06760 serr=0.69730 act=399760 obj=92694.88955 diff=0.01764\n",
      "iter=28 terr=0.07008 serr=0.70173 act=399760 obj=90879.71504 diff=0.01958\n",
      "iter=29 terr=0.06121 serr=0.71391 act=399760 obj=89876.98669 diff=0.01103\n",
      "iter=30 terr=0.06246 serr=0.71302 act=399760 obj=89351.87239 diff=0.00584\n",
      "iter=31 terr=0.06255 serr=0.71391 act=399760 obj=88177.24834 diff=0.01315\n",
      "iter=32 terr=0.06659 serr=0.69619 act=399760 obj=86613.44392 diff=0.01773\n",
      "iter=33 terr=0.06549 serr=0.68977 act=399760 obj=86021.75475 diff=0.00683\n",
      "iter=34 terr=0.05970 serr=0.70815 act=399760 obj=85617.74989 diff=0.00470\n",
      "iter=35 terr=0.05969 serr=0.70815 act=399760 obj=85273.31664 diff=0.00402\n",
      "iter=36 terr=0.06299 serr=0.71634 act=399760 obj=84857.16318 diff=0.00488\n",
      "iter=37 terr=0.06139 serr=0.71701 act=399760 obj=84336.09969 diff=0.00614\n",
      "iter=38 terr=0.06511 serr=0.68933 act=399760 obj=83741.60544 diff=0.00705\n",
      "iter=39 terr=0.06517 serr=0.68977 act=399760 obj=83474.22843 diff=0.00319\n",
      "iter=40 terr=0.06049 serr=0.71457 act=399760 obj=82717.12411 diff=0.00907\n",
      "iter=41 terr=0.06469 serr=0.68800 act=399760 obj=82288.43532 diff=0.00518\n",
      "iter=42 terr=0.06116 serr=0.72143 act=399760 obj=81947.73821 diff=0.00414\n",
      "iter=43 terr=0.06063 serr=0.71612 act=399760 obj=81716.39908 diff=0.00282\n",
      "iter=44 terr=0.06796 serr=0.69531 act=399760 obj=81927.94074 diff=0.00259\n",
      "iter=45 terr=0.05967 serr=0.70793 act=399760 obj=81550.11514 diff=0.00461\n",
      "iter=46 terr=0.05966 serr=0.70793 act=399760 obj=81362.10997 diff=0.00231\n",
      "iter=47 terr=0.05971 serr=0.70837 act=399760 obj=81188.11155 diff=0.00214\n",
      "iter=48 terr=0.05968 serr=0.70793 act=399760 obj=80799.18236 diff=0.00479\n",
      "iter=49 terr=0.05962 serr=0.70726 act=399760 obj=81218.95589 diff=0.00520\n",
      "iter=50 terr=0.05968 serr=0.70748 act=399760 obj=80710.70739 diff=0.00626\n",
      "iter=51 terr=0.05966 serr=0.70748 act=399760 obj=80615.87819 diff=0.00117\n",
      "iter=52 terr=0.05962 serr=0.70704 act=399760 obj=80467.20111 diff=0.00184\n",
      "iter=53 terr=0.05967 serr=0.70748 act=399760 obj=80332.50852 diff=0.00167\n",
      "iter=54 terr=0.05968 serr=0.70748 act=399760 obj=80140.02260 diff=0.00240\n",
      "iter=55 terr=0.06492 serr=0.69243 act=399760 obj=80074.63060 diff=0.00082\n",
      "iter=56 terr=0.05968 serr=0.70815 act=399760 obj=79929.55779 diff=0.00181\n",
      "iter=57 terr=0.05968 serr=0.70793 act=399760 obj=79910.18764 diff=0.00024\n",
      "iter=58 terr=0.05971 serr=0.70837 act=399760 obj=79889.12327 diff=0.00026\n",
      "iter=59 terr=0.05970 serr=0.70815 act=399760 obj=79847.90526 diff=0.00052\n",
      "iter=60 terr=0.05969 serr=0.70815 act=399760 obj=79807.10128 diff=0.00051\n",
      "iter=61 terr=0.05970 serr=0.70815 act=399760 obj=79773.97330 diff=0.00042\n",
      "iter=62 terr=0.05970 serr=0.70815 act=399760 obj=79723.59407 diff=0.00063\n",
      "iter=63 terr=0.05970 serr=0.70815 act=399760 obj=79714.64100 diff=0.00011\n",
      "iter=64 terr=0.05969 serr=0.70837 act=399760 obj=79682.92584 diff=0.00040\n",
      "iter=65 terr=0.05970 serr=0.70837 act=399760 obj=79662.70556 diff=0.00025\n",
      "iter=66 terr=0.05967 serr=0.70793 act=399760 obj=79636.31316 diff=0.00033\n",
      "iter=67 terr=0.05968 serr=0.70837 act=399760 obj=79612.36932 diff=0.00030\n",
      "iter=68 terr=0.05969 serr=0.70815 act=399760 obj=79588.22676 diff=0.00030\n",
      "iter=69 terr=0.05968 serr=0.70815 act=399760 obj=79569.94281 diff=0.00023\n",
      "iter=70 terr=0.05964 serr=0.70815 act=399760 obj=79544.03637 diff=0.00033\n",
      "iter=71 terr=0.05967 serr=0.70793 act=399760 obj=79542.59482 diff=0.00002\n",
      "iter=72 terr=0.05969 serr=0.70815 act=399760 obj=79528.60411 diff=0.00018\n",
      "iter=73 terr=0.05971 serr=0.70815 act=399760 obj=79512.58446 diff=0.00020\n",
      "iter=74 terr=0.05970 serr=0.70837 act=399760 obj=79505.55608 diff=0.00009\n",
      "iter=75 terr=0.05968 serr=0.70815 act=399760 obj=79498.26972 diff=0.00009\n",
      "iter=76 terr=0.05968 serr=0.70837 act=399760 obj=79483.11345 diff=0.00019\n",
      "iter=77 terr=0.05969 serr=0.70815 act=399760 obj=79488.54107 diff=0.00007\n",
      "iter=78 terr=0.05973 serr=0.70859 act=399760 obj=79477.88399 diff=0.00013\n",
      "iter=79 terr=0.05971 serr=0.70837 act=399760 obj=79470.13935 diff=0.00010\n",
      "iter=80 terr=0.05967 serr=0.70815 act=399760 obj=79465.43451 diff=0.00006\n",
      "iter=81 terr=0.05966 serr=0.70815 act=399760 obj=79459.23420 diff=0.00008\n",
      "\n",
      "Done!1268.58 s\n",
      "\n"
     ]
    }
   ],
   "source": [
    "# POS Training using Dataset\n",
    "! ./CRF++-0.58/crf_learn template_pos hindi_pos.txt pos_model"
   ]
  },
  {
   "cell_type": "code",
   "execution_count": 4,
   "id": "b5002734-de21-4a5b-b920-2b36a91e3082",
   "metadata": {},
   "outputs": [
    {
     "name": "stderr",
     "output_type": "stream",
     "text": [
      "/usr/lib/python3/dist-packages/scipy/__init__.py:146: UserWarning: A NumPy version >=1.17.3 and <1.25.0 is required for this version of SciPy (detected version 1.26.4\n",
      "  warnings.warn(f\"A NumPy version >={np_minversion} and <{np_maxversion}\"\n"
     ]
    }
   ],
   "source": [
    "from datasets import load_dataset\n",
    "hindi_dataset = load_dataset(\"ai4bharat/naamapadam\",'hi')"
   ]
  },
  {
   "cell_type": "code",
   "execution_count": 5,
   "id": "4643e5ee-15ef-42ca-8c49-e5200b4c0c2a",
   "metadata": {},
   "outputs": [
    {
     "data": {
      "text/plain": [
       "DatasetDict({\n",
       "    train: Dataset({\n",
       "        features: ['tokens', 'ner_tags'],\n",
       "        num_rows: 985787\n",
       "    })\n",
       "    test: Dataset({\n",
       "        features: ['tokens', 'ner_tags'],\n",
       "        num_rows: 867\n",
       "    })\n",
       "    validation: Dataset({\n",
       "        features: ['tokens', 'ner_tags'],\n",
       "        num_rows: 13460\n",
       "    })\n",
       "})"
      ]
     },
     "execution_count": 5,
     "metadata": {},
     "output_type": "execute_result"
    }
   ],
   "source": [
    "hindi_dataset"
   ]
  },
  {
   "cell_type": "code",
   "execution_count": 7,
   "id": "d9241e3c-29cf-40a2-8272-b14777224ae3",
   "metadata": {
    "jupyter": {
     "source_hidden": true
    }
   },
   "outputs": [
    {
     "data": {
      "text/plain": [
       "{'tokens': Sequence(feature=Value(dtype='string', id=None), length=-1, id=None),\n",
       " 'ner_tags': Sequence(feature=ClassLabel(names=['O', 'B-PER', 'I-PER', 'B-ORG', 'I-ORG', 'B-LOC', 'I-LOC'], id=None), length=-1, id=None)}"
      ]
     },
     "execution_count": 7,
     "metadata": {},
     "output_type": "execute_result"
    }
   ],
   "source": [
    "hindi_dataset['train'].features"
   ]
  },
  {
   "cell_type": "code",
   "execution_count": 8,
   "id": "2ce47e7e-2569-4ca6-9b15-c96773bc38d0",
   "metadata": {
    "jupyter": {
     "source_hidden": true
    }
   },
   "outputs": [
    {
     "data": {
      "text/plain": [
       "DatasetInfo(description='\\n', citation='\\n', homepage='https://indicnlp.ai4bharat.org/', license='Creative Commons Attribution-NonCommercial 4.0 International Public License', features={'tokens': Sequence(feature=Value(dtype='string', id=None), length=-1, id=None), 'ner_tags': Sequence(feature=ClassLabel(names=['O', 'B-PER', 'I-PER', 'B-ORG', 'I-ORG', 'B-LOC', 'I-LOC'], id=None), length=-1, id=None)}, post_processed=None, supervised_keys=None, task_templates=None, builder_name='parquet', dataset_name='naamapadam', config_name='hi', version=1.0.0, splits={'train': SplitInfo(name='train', num_bytes=532151310, num_examples=985787, shard_lengths=[927000, 58787], dataset_name='naamapadam'), 'test': SplitInfo(name='test', num_bytes=478446, num_examples=867, shard_lengths=None, dataset_name='naamapadam'), 'validation': SplitInfo(name='validation', num_bytes=7357824, num_examples=13460, shard_lengths=None, dataset_name='naamapadam')}, download_checksums={'hf://datasets/ai4bharat/naamapadam@78e6b822dabd32b9c4515be313f7893f419dab56/hi/train/0000.parquet': {'num_bytes': 93264473, 'checksum': None}, 'hf://datasets/ai4bharat/naamapadam@78e6b822dabd32b9c4515be313f7893f419dab56/hi/train/0001.parquet': {'num_bytes': 5479401, 'checksum': None}, 'hf://datasets/ai4bharat/naamapadam@78e6b822dabd32b9c4515be313f7893f419dab56/hi/test/0000.parquet': {'num_bytes': 93468, 'checksum': None}, 'hf://datasets/ai4bharat/naamapadam@78e6b822dabd32b9c4515be313f7893f419dab56/hi/validation/0000.parquet': {'num_bytes': 1366190, 'checksum': None}}, download_size=100203532, post_processing_size=None, dataset_size=539987580, size_in_bytes=640191112)"
      ]
     },
     "execution_count": 8,
     "metadata": {},
     "output_type": "execute_result"
    }
   ],
   "source": [
    "hindi_dataset['train'].info"
   ]
  },
  {
   "cell_type": "code",
   "execution_count": 9,
   "id": "79cb60a9-1749-4187-89a4-6ecfea624b86",
   "metadata": {},
   "outputs": [
    {
     "data": {
      "text/plain": [
       "datasets.arrow_dataset.Dataset"
      ]
     },
     "execution_count": 9,
     "metadata": {},
     "output_type": "execute_result"
    }
   ],
   "source": [
    "type(hindi_dataset['train'])"
   ]
  },
  {
   "cell_type": "code",
   "execution_count": 10,
   "id": "6e5930be-98e8-4b73-a9f1-4cd9c42c9204",
   "metadata": {},
   "outputs": [
    {
     "data": {
      "text/plain": [
       "ConcatenationTable\n",
       "tokens: list<item: string>\n",
       "  child 0, item: string\n",
       "ner_tags: list<item: int64>\n",
       "  child 0, item: int64\n",
       "----\n",
       "tokens: [[[\"सेक्टर\",\"55/56\",\"के\",\"एसएचओ\",\"अरविंद\",...,\"कर\",\"लिया\",\"गया\",\"है\",\"।\"],[\"मध्य\",\"रेलवे\",\"एवं\",\"पश्चिम\",\"रेलवे\",...,\"कर\",\"दिया\",\"गया\",\"है\",\"।\"],...,[\"TRUSU\",\"यूपीएएसएस\",\"कमलोप्स\",\"शहर\",\"के\",...,\"प्रदान\",\"किया\",\"जाता\",\"है\",\"।\"],[\"राज्य\",\"के\",\"स्वास्थ्य\",\"मंत्री\",\"राजेश\",...,\"देने\",\"की\",\"मांग\",\"रखी\",\"।\"]],[[\"सूक्ष्म\",\",\",\"लघु\",\"एवं\",\"मध्यम\",...,\"पर\",\"ध्यान\",\"केंद्रित\",\"करेगी\",\"।\"],[\"सिंह\",\"ने\",\"कहा\",\"कि\",\"राजनीति\",...,\"या\",\"धर्म\",\"के\",\"लिए\",\"।\"],...,[\"एक\",\"अधिकारी\",\"ने\",\"आईएएनएस\",\"को\",...,\"अवरुद्ध\",\"हो\",\"गया\",\"है\",\".\"],[\"उम्मीद\",\"है\",\"कि\",\"सैद्धांतिक\",\"रचनाओं\",...,\"विकसित\",\"हो\",\"रहे\",\"हैं\",\"।\"]],...,[[\"डिजिटल\",\"प्रोडक्शन\",\"(\",\"कंटेंट\",\")\",\"-\",\"अमन\",\"गुप्ता\"],[\"फिल्म\",\"में\",\"संजय\",\"दत्त\",\"का\",...,\"ने\",\"अदा\",\"किया\",\"है\",\"।\"],...,[\"वाजपेई\",\"बाबू\",\"बनारसी\",\"दास\",\"वार्ड\",\"के\",\"वोटर\",\"हैं\",\"।\"],[\"नवंबर\",\"2016\",\"में\",\",\",\"Xiaomi\",...,\"Redmi\",\"4\",\"जारी\",\"किया\",\"।\"]],[[\"उन्होंने\",\"2009\",\"में\",\"आंध्र\",\"में\",...,\"के\",\"करिश्मे\",\"को\",\"दोहराया\",\"।\"],[\"लेकिन\",\",\",\"मसीही\",\"ओवरसियर\",\"\"\",...,\"५ः\",\"१३\",\"-\",\"१५\",\".\"],...,[\"आधारभूत\",\"सुविधाओं\",\"के\",\"कार्यदल\",\"ने\",...,\"का\",\"चयन\",\"किया\",\"है\",\"।\"],[\"उनके\",\"27\",\"साल\",\"के\",\"बेटे\",...,\"दिल\",\"की\",\"बीमारी\",\"थी\",\"।\"]]]\n",
       "ner_tags: [[[0,0,0,0,1,...,0,0,0,0,0],[3,4,4,4,4,...,0,0,0,0,0],...,[0,0,0,5,0,...,0,0,0,0,0],[0,0,0,0,1,...,0,0,0,0,0]],[[0,0,0,0,0,...,0,0,0,0,0],[1,0,0,0,0,...,0,0,0,0,0],...,[0,0,0,3,0,...,0,0,0,0,0],[0,0,0,0,0,...,0,0,0,0,0]],...,[[0,0,0,0,0,0,1,2],[0,0,1,2,0,...,0,0,0,0,0],...,[1,0,5,6,0,0,0,0,0],[0,0,0,0,3,...,0,0,0,0,0]],[[0,0,0,5,0,...,0,0,0,0,0],[0,0,0,0,0,...,0,0,0,0,0],...,[0,3,4,4,0,...,0,0,0,0,0],[0,0,0,0,0,...,0,0,0,0,0]]]"
      ]
     },
     "execution_count": 10,
     "metadata": {},
     "output_type": "execute_result"
    }
   ],
   "source": [
    "hindi_dataset['train'].data"
   ]
  },
  {
   "cell_type": "code",
   "execution_count": 36,
   "id": "5f53c172-8184-43a5-bd02-e2b836785e75",
   "metadata": {},
   "outputs": [],
   "source": [
    "hindi_train=hindi_dataset['train']\n"
   ]
  },
  {
   "cell_type": "code",
   "execution_count": 11,
   "id": "fba7871f-9d7a-42cc-aad7-eae2341d4949",
   "metadata": {
    "collapsed": true,
    "jupyter": {
     "outputs_hidden": true
    }
   },
   "outputs": [
    {
     "name": "stdout",
     "output_type": "stream",
     "text": [
      "                                                   tokens  \\\n",
      "0       [सेक्टर, 55/56, के, एसएचओ, अरविंद, कुमार, ने, ...   \n",
      "1       [मध्य, रेलवे, एवं, पश्चिम, रेलवे, के, अधिकारिय...   \n",
      "2       [जाने, -, माने, वैज्ञानिक, सिवान, के, ., को, भ...   \n",
      "3            [यह, सूर्य, ग्रहण, भारत, में, भी, दिखेगा, .]   \n",
      "4       [ज्ञापन, में, कहा, गया, है, कि, सीपीडब्ल्यूडी,...   \n",
      "...                                                   ...   \n",
      "985782  [पाकिस्तानी, टीवी, होस्ट, नादिया, खान, ने, हॉल...   \n",
      "985783  [भारतीय, आयात, -, निर्यात, बैंक, ,, भारतीय, स्...   \n",
      "985784  [दिल्ली, की, पटियाला, हाउस, अदालत, ने, IRCTC, ...   \n",
      "985785  [आधारभूत, सुविधाओं, के, कार्यदल, ने, भारतीय, ह...   \n",
      "985786  [उनके, 27, साल, के, बेटे, जीवा, को, भी, दिल, क...   \n",
      "\n",
      "                                                 ner_tags  \n",
      "0       [0, 0, 0, 0, 1, 2, 0, 0, 0, 0, 0, 0, 0, 0, 0, ...  \n",
      "1       [3, 4, 4, 4, 4, 0, 0, 0, 0, 0, 0, 3, 4, 0, 3, ...  \n",
      "2       [0, 0, 0, 0, 1, 2, 0, 0, 3, 4, 4, 4, 0, 0, 0, ...  \n",
      "3                                [0, 0, 0, 5, 0, 0, 0, 0]  \n",
      "4       [0, 0, 0, 0, 0, 0, 3, 0, 0, 0, 0, 0, 0, 0, 0, ...  \n",
      "...                                                   ...  \n",
      "985782   [0, 0, 0, 1, 2, 0, 5, 0, 0, 0, 0, 0, 0, 0, 0, 0]  \n",
      "985783  [0, 3, 0, 0, 0, 0, 0, 3, 0, 0, 3, 4, 4, 0, 3, ...  \n",
      "985784  [5, 0, 3, 4, 4, 0, 3, 0, 0, 0, 0, 0, 0, 0, 5, ...  \n",
      "985785  [0, 3, 4, 4, 0, 5, 0, 0, 0, 0, 0, 0, 0, 0, 0, ...  \n",
      "985786            [0, 0, 0, 0, 0, 1, 0, 0, 0, 0, 0, 0, 0]  \n",
      "\n",
      "[985787 rows x 2 columns]\n"
     ]
    }
   ],
   "source": [
    "df = pandas.DataFrame(hindi_train)\n",
    "print(df)"
   ]
  },
  {
   "cell_type": "code",
   "execution_count": 71,
   "id": "972217a7-f5c6-44b4-8969-257a4189e7a3",
   "metadata": {},
   "outputs": [],
   "source": [
    "import json\n",
    "\n",
    "# Define a function to convert data into CoNLL format\n",
    "def convert_to_conll(data):\n",
    "    names=['O', 'B-PER', 'I-PER', 'B-ORG', 'I-ORG', 'B-LOC', 'I-LOC']\n",
    "    conll_lines = []\n",
    "    count=0\n",
    "    for sample in data:\n",
    "        tokens = sample['tokens']\n",
    "        ner_tags = sample['ner_tags']\n",
    "\n",
    "        count=count+1\n",
    "        for token, ner_tag in zip(tokens, ner_tags):\n",
    "            conll_lines.append(f\"{token}\\t{names[ner_tag]}\\n\")\n",
    "        conll_lines.append(\"\\n\")  # add newline to separate sentences\n",
    "        # if(count==5000):\n",
    "        #     break;\n",
    "        \n",
    "    return conll_lines\n",
    "\n",
    "# Convert the data to CoNLL format\n",
    "conll_data = convert_to_conll(hindi_train)\n",
    "\n",
    "# Write the CoNLL data to a file\n",
    "with open(\"./NER/train.conll\", \"w\") as f:\n",
    "    f.writelines(conll_data)\n"
   ]
  },
  {
   "cell_type": "code",
   "execution_count": 14,
   "id": "3a083169-ac44-49b7-abbf-18694b8fb184",
   "metadata": {},
   "outputs": [],
   "source": [
    "hindi_test=hindi_dataset['test']"
   ]
  },
  {
   "cell_type": "code",
   "execution_count": 38,
   "id": "3eeb6426-6628-4f68-a5f3-42fc952e6588",
   "metadata": {},
   "outputs": [],
   "source": [
    "import json\n",
    "\n",
    "# Define a function to convert data into CoNLL format\n",
    "def convert_to_conll(data):\n",
    "    names=['O', 'B-PER', 'I-PER', 'B-ORG', 'I-ORG', 'B-LOC', 'I-LOC']\n",
    "    conll_lines = []\n",
    "    for sample in data:\n",
    "        tokens = sample['tokens']\n",
    "        ner_tags = sample['ner_tags']\n",
    "\n",
    "        for token, ner_tag in zip(tokens, ner_tags):\n",
    "            conll_lines.append(f\"{token}   {names[ner_tag]}\\n\")\n",
    "        conll_lines.append(\"\\n\")  # add newline to separate sentences\n",
    "\n",
    "    return conll_lines\n",
    "\n",
    "# Convert the data to CoNLL format\n",
    "conll_data = convert_to_conll(hindi_test)\n",
    "\n",
    "# Write the CoNLL data to a file\n",
    "with open(\"./NER/test.conll\", \"w\") as f:\n",
    "    f.writelines(conll_data)"
   ]
  },
  {
   "cell_type": "code",
   "execution_count": 69,
   "id": "652af0ba-4b3a-4ee8-8163-e2996c1505a3",
   "metadata": {},
   "outputs": [
    {
     "name": "stdout",
     "output_type": "stream",
     "text": [
      "/bin/bash: line 1: ./CRF++-0.58/crf_learn.exe: cannot execute binary file: Exec format error\n"
     ]
    }
   ],
   "source": [
    "! ./CRF++-0.58/crf_learn.exe ./NER/train.conll ./NER/template_NER hindi_NER\n"
   ]
  },
  {
   "cell_type": "code",
   "execution_count": 17,
   "id": "e5129f62-a3f0-462d-9c53-d9734ab4ecc2",
   "metadata": {},
   "outputs": [
    {
     "name": "stdout",
     "output_type": "stream",
     "text": [
      "feature_index.cpp(193) [mmap_.open(model_filename)] mmap.h(153) [(fd = ::open(filename, flag | O_BINARY)) >= 0] open failed: hindi_model1\n"
     ]
    }
   ],
   "source": [
    "! crf_test -m hindi_model1 test.conll > output.conll"
   ]
  },
  {
   "cell_type": "code",
   "execution_count": 18,
   "id": "a034ca2e-476e-4be2-99f7-20a34fb2e2bc",
   "metadata": {},
   "outputs": [
    {
     "name": "stdout",
     "output_type": "stream",
     "text": [
      "\u001b7\u001b[?47h\u001b[>4;2m\u001b[?1h\u001b=\u001b[?2004h\u001b[?1004h\u001b[1;24r\u001b[?12h\u001b[?12l\u001b[22;2t\u001b[22;1t\u001b[29m\u001b[m\u001b[H\u001b[2J\u001b[?25l\u001b[24;1H\"output.conll\" 0L, 0B\u001b[2;1H▽\u001b[6n\u001b[2;1H  \u001b[3;1H\u001bPzz\u001b\\\u001b[0%m\u001b[6n\u001b[3;1H           \u001b[1;1H\u001b[>c\u001b]10;?\u0007\u001b]11;?\u0007\u001b[2;1H\u001b[1m\u001b[34m~                                                                               \u001b[3;1H~                                                                               \u001b[4;1H~                                                                               \u001b[5;1H~                                                                               \u001b[6;1H~                                                                               \u001b[7;1H~                                                                               \u001b[8;1H~                                                                               \u001b[9;1H~                                                                               \u001b[10;1H~                                                                               \u001b[11;1H~                                                                               \u001b[12;1H~                                                                               \u001b[13;1H~                                                                               \u001b[14;1H~                                                                               \u001b[15;1H~                                                                               \u001b[16;1H~                                                                               \u001b[17;1H~                                                                               \u001b[18;1H~                                                                               \u001b[19;1H~                                                                               \u001b[20;1H~                                                                               \u001b[21;1H~                                                                               \u001b[22;1H~                                                                               \u001b[23;1H~                                                                               \u001b[m\u001b[24;63H0,0-1\u001b[9CAll\u001b[1;1H\u001b[?25h\u001b[?25l\u001b[24;1HType  :qa  and press <Enter> to exit Vim\u001b[24;63H\u001b[K\u0007\u001b[24;63H0,0-1\u001b[9CAll\u001b[1;1H\u001b[?25h"
     ]
    }
   ],
   "source": [
    "! vim output.conll"
   ]
  },
  {
   "cell_type": "code",
   "execution_count": 19,
   "id": "fbf1621a-9b26-4b19-8bde-5253975af3f7",
   "metadata": {},
   "outputs": [
    {
     "name": "stdout",
     "output_type": "stream",
     "text": [
      "Can't open perl script \"conlleval\": No such file or directory\n"
     ]
    }
   ],
   "source": [
    "! perl conlleval -d \"\\t\" < output.conll"
   ]
  }
 ],
 "metadata": {
  "kernelspec": {
   "display_name": "Python 3 (ipykernel)",
   "language": "python",
   "name": "python3"
  },
  "language_info": {
   "codemirror_mode": {
    "name": "ipython",
    "version": 3
   },
   "file_extension": ".py",
   "mimetype": "text/x-python",
   "name": "python",
   "nbconvert_exporter": "python",
   "pygments_lexer": "ipython3",
   "version": "3.10.12"
  }
 },
 "nbformat": 4,
 "nbformat_minor": 5
}

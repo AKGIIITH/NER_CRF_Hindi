{
 "cells": [
  {
   "cell_type": "code",
   "execution_count": 1,
   "id": "9628aef1-06cd-4140-a645-b5b6122b04a6",
   "metadata": {},
   "outputs": [],
   "source": [
    "import pandas"
   ]
  },
  {
   "cell_type": "code",
   "execution_count": 2,
   "id": "dbde34f6-a587-4f29-9658-c2613770d4a7",
   "metadata": {
    "jupyter": {
     "source_hidden": true
    }
   },
   "outputs": [
    {
     "name": "stdout",
     "output_type": "stream",
     "text": [
      "Defaulting to user installation because normal site-packages is not writeable\n",
      "Requirement already satisfied: datasets in /home/akg/.local/lib/python3.10/site-packages (2.19.0)\n",
      "Requirement already satisfied: pyarrow-hotfix in /home/akg/.local/lib/python3.10/site-packages (from datasets) (0.6)\n",
      "Requirement already satisfied: xxhash in /home/akg/.local/lib/python3.10/site-packages (from datasets) (3.4.1)\n",
      "Requirement already satisfied: filelock in /home/akg/.local/lib/python3.10/site-packages (from datasets) (3.14.0)\n",
      "Requirement already satisfied: pyyaml>=5.1 in /usr/lib/python3/dist-packages (from datasets) (5.4.1)\n",
      "Requirement already satisfied: multiprocess in /home/akg/.local/lib/python3.10/site-packages (from datasets) (0.70.16)\n",
      "Requirement already satisfied: pyarrow>=12.0.0 in /home/akg/.local/lib/python3.10/site-packages (from datasets) (16.0.0)\n",
      "Requirement already satisfied: tqdm>=4.62.1 in /home/akg/.local/lib/python3.10/site-packages (from datasets) (4.66.2)\n",
      "Requirement already satisfied: fsspec[http]<=2024.3.1,>=2023.1.0 in /home/akg/.local/lib/python3.10/site-packages (from datasets) (2024.3.1)\n",
      "Requirement already satisfied: pandas in /home/akg/.local/lib/python3.10/site-packages (from datasets) (2.2.1)\n",
      "Requirement already satisfied: huggingface-hub>=0.21.2 in /home/akg/.local/lib/python3.10/site-packages (from datasets) (0.23.0)\n",
      "Requirement already satisfied: aiohttp in /home/akg/.local/lib/python3.10/site-packages (from datasets) (3.9.5)\n",
      "Requirement already satisfied: dill<0.3.9,>=0.3.0 in /home/akg/.local/lib/python3.10/site-packages (from datasets) (0.3.8)\n",
      "Requirement already satisfied: packaging in /home/akg/.local/lib/python3.10/site-packages (from datasets) (23.2)\n",
      "Requirement already satisfied: numpy>=1.17 in /home/akg/.local/lib/python3.10/site-packages (from datasets) (1.26.4)\n",
      "Requirement already satisfied: requests>=2.19.0 in /home/akg/.local/lib/python3.10/site-packages (from datasets) (2.31.0)\n",
      "Requirement already satisfied: multidict<7.0,>=4.5 in /home/akg/.local/lib/python3.10/site-packages (from aiohttp->datasets) (6.0.5)\n",
      "Requirement already satisfied: async-timeout<5.0,>=4.0 in /home/akg/.local/lib/python3.10/site-packages (from aiohttp->datasets) (4.0.3)\n",
      "Requirement already satisfied: frozenlist>=1.1.1 in /home/akg/.local/lib/python3.10/site-packages (from aiohttp->datasets) (1.4.1)\n",
      "Requirement already satisfied: yarl<2.0,>=1.0 in /home/akg/.local/lib/python3.10/site-packages (from aiohttp->datasets) (1.9.4)\n",
      "Requirement already satisfied: attrs>=17.3.0 in /home/akg/.local/lib/python3.10/site-packages (from aiohttp->datasets) (23.2.0)\n",
      "Requirement already satisfied: aiosignal>=1.1.2 in /home/akg/.local/lib/python3.10/site-packages (from aiohttp->datasets) (1.3.1)\n",
      "Requirement already satisfied: typing-extensions>=3.7.4.3 in /home/akg/.local/lib/python3.10/site-packages (from huggingface-hub>=0.21.2->datasets) (4.9.0)\n",
      "Requirement already satisfied: certifi>=2017.4.17 in /usr/lib/python3/dist-packages (from requests>=2.19.0->datasets) (2020.6.20)\n",
      "Requirement already satisfied: idna<4,>=2.5 in /usr/lib/python3/dist-packages (from requests>=2.19.0->datasets) (3.3)\n",
      "Requirement already satisfied: charset-normalizer<4,>=2 in /home/akg/.local/lib/python3.10/site-packages (from requests>=2.19.0->datasets) (3.3.2)\n",
      "Requirement already satisfied: urllib3<3,>=1.21.1 in /usr/lib/python3/dist-packages (from requests>=2.19.0->datasets) (1.26.5)\n",
      "Requirement already satisfied: pytz>=2020.1 in /usr/lib/python3/dist-packages (from pandas->datasets) (2022.1)\n",
      "Requirement already satisfied: tzdata>=2022.7 in /home/akg/.local/lib/python3.10/site-packages (from pandas->datasets) (2024.1)\n",
      "Requirement already satisfied: python-dateutil>=2.8.2 in /home/akg/.local/lib/python3.10/site-packages (from pandas->datasets) (2.8.2)\n",
      "Requirement already satisfied: six>=1.5 in /usr/lib/python3/dist-packages (from python-dateutil>=2.8.2->pandas->datasets) (1.16.0)\n"
     ]
    }
   ],
   "source": [
    "! pip install datasets"
   ]
  },
  {
   "cell_type": "code",
   "execution_count": 3,
   "id": "6ffe2ecd-1c52-4bca-bd24-737a38905cf2",
   "metadata": {
    "scrolled": true
   },
   "outputs": [
    {
     "name": "stdout",
     "output_type": "stream",
     "text": [
      "CRF++: Yet Another CRF Tool Kit\n",
      "Copyright (C) 2005-2013 Taku Kudo, All rights reserved.\n",
      "\n",
      "reading training data: 100.. 200.. 300.. 400.. 500.. 600.. 700.. 800.. 900.. 1000.. 1100.. 1200.. 1300.. 1400.. 1500.. 1600.. 1700.. 1800.. 1900.. 2000.. 2100.. 2200.. 2300.. 2400.. 2500.. 2600.. 2700.. 2800.. 2900.. 3000.. 3100.. 3200.. 3300.. 3400.. 3500.. 3600.. 3700.. 3800.. 3900.. 4000.. 4100.. 4200.. 4300.. 4400.. 4500.. \n",
      "Done!0.11 s\n",
      "\n",
      "Number of sentences: 4516\n",
      "Number of features:  1154363\n",
      "Number of thread(s): 12\n",
      "Freq:                1\n",
      "eta:                 0.00010\n",
      "C:                   1.00000\n",
      "shrinking size:      20\n",
      "iter=0 terr=0.97565 serr=1.00000 act=1154363 obj=311900.25654 diff=1.00000\n",
      "iter=1 terr=0.30616 serr=0.99048 act=1154363 obj=300501.35140 diff=0.03655\n",
      "iter=2 terr=0.30615 serr=0.99048 act=1154363 obj=260944.91683 diff=0.13163\n",
      "iter=3 terr=0.30307 serr=0.99048 act=1154363 obj=164271.19710 diff=0.37048\n",
      "iter=4 terr=0.29328 serr=0.99491 act=1154363 obj=150858.96915 diff=0.08165\n",
      "iter=5 terr=0.27910 serr=0.99070 act=1154363 obj=129852.84900 diff=0.13924\n",
      "iter=6 terr=0.25015 serr=0.98893 act=1154363 obj=140321.93323 diff=0.08062\n",
      "iter=7 terr=0.24918 serr=0.97963 act=1154363 obj=115714.25232 diff=0.17537\n",
      "iter=8 terr=0.23738 serr=0.97808 act=1154363 obj=104857.39149 diff=0.09382\n",
      "iter=9 terr=0.22116 serr=0.97498 act=1154363 obj=97509.47311 diff=0.07008\n",
      "iter=10 terr=0.19474 serr=0.94597 act=1154363 obj=86421.11222 diff=0.11372\n",
      "iter=11 terr=0.18600 serr=0.95151 act=1154363 obj=81017.96619 diff=0.06252\n",
      "iter=12 terr=0.17290 serr=0.92848 act=1154363 obj=77182.22886 diff=0.04734\n",
      "iter=13 terr=0.15376 serr=0.89637 act=1154363 obj=71469.30100 diff=0.07402\n",
      "iter=14 terr=0.14154 serr=0.87511 act=1154363 obj=68039.00355 diff=0.04800\n",
      "iter=15 terr=0.12524 serr=0.85740 act=1154363 obj=64341.83652 diff=0.05434\n",
      "iter=16 terr=0.11035 serr=0.80292 act=1154363 obj=59391.86573 diff=0.07693\n",
      "iter=17 terr=0.10797 serr=0.79805 act=1154363 obj=57262.42623 diff=0.03585\n",
      "iter=18 terr=0.10609 serr=0.79141 act=1154363 obj=53520.95844 diff=0.06534\n",
      "iter=19 terr=0.09674 serr=0.77857 act=1154363 obj=50433.33871 diff=0.05769\n",
      "iter=20 terr=0.08941 serr=0.75576 act=1154363 obj=47762.72815 diff=0.05295\n",
      "iter=21 terr=0.07826 serr=0.69619 act=1154363 obj=45804.65281 diff=0.04100\n",
      "iter=22 terr=0.07191 serr=0.66541 act=1154363 obj=44831.44875 diff=0.02125\n",
      "iter=23 terr=0.06704 serr=0.64172 act=1154363 obj=43438.95769 diff=0.03106\n",
      "iter=24 terr=0.06357 serr=0.63286 act=1154363 obj=42284.23798 diff=0.02658\n",
      "iter=25 terr=0.05797 serr=0.59588 act=1154363 obj=41075.07484 diff=0.02860\n",
      "iter=26 terr=0.05566 serr=0.57972 act=1154363 obj=40334.12641 diff=0.01804\n",
      "iter=27 terr=0.05484 serr=0.57905 act=1154363 obj=39497.08095 diff=0.02075\n",
      "iter=28 terr=0.05153 serr=0.55447 act=1154363 obj=39016.16006 diff=0.01218\n",
      "iter=29 terr=0.04866 serr=0.53144 act=1154363 obj=38554.72570 diff=0.01183\n",
      "iter=30 terr=0.04742 serr=0.52436 act=1154363 obj=37975.11217 diff=0.01503\n",
      "iter=31 terr=0.04632 serr=0.51860 act=1154363 obj=37408.57777 diff=0.01492\n",
      "iter=32 terr=0.04412 serr=0.50974 act=1154363 obj=37111.05982 diff=0.00795\n",
      "iter=33 terr=0.04082 serr=0.47874 act=1154363 obj=36514.00865 diff=0.01609\n",
      "iter=34 terr=0.03945 serr=0.46767 act=1154363 obj=36297.98989 diff=0.00592\n",
      "iter=35 terr=0.03727 serr=0.45261 act=1154363 obj=35992.87353 diff=0.00841\n",
      "iter=36 terr=0.04080 serr=0.50066 act=1154363 obj=36292.39407 diff=0.00832\n",
      "iter=37 terr=0.03541 serr=0.43711 act=1154363 obj=35845.90213 diff=0.01230\n",
      "iter=38 terr=0.03481 serr=0.42892 act=1154363 obj=35698.31586 diff=0.00412\n",
      "iter=39 terr=0.03294 serr=0.41519 act=1154363 obj=35514.08757 diff=0.00516\n",
      "iter=40 terr=0.03269 serr=0.41497 act=1154363 obj=35363.57110 diff=0.00424\n",
      "iter=41 terr=0.03376 serr=0.42914 act=1154363 obj=35305.17884 diff=0.00165\n",
      "iter=42 terr=0.03084 serr=0.39615 act=1154363 obj=35108.92422 diff=0.00556\n",
      "iter=43 terr=0.03077 serr=0.39925 act=1154363 obj=35061.04661 diff=0.00136\n",
      "iter=44 terr=0.03024 serr=0.39593 act=1154363 obj=35002.77722 diff=0.00166\n",
      "iter=45 terr=0.02957 serr=0.38862 act=1154363 obj=34903.17522 diff=0.00285\n",
      "iter=46 terr=0.02919 serr=0.38153 act=1154363 obj=34937.32748 diff=0.00098\n",
      "iter=47 terr=0.02879 serr=0.38020 act=1154363 obj=34860.74269 diff=0.00219\n",
      "iter=48 terr=0.02890 serr=0.37910 act=1154363 obj=34790.92305 diff=0.00200\n",
      "iter=49 terr=0.02829 serr=0.37201 act=1154363 obj=34750.30197 diff=0.00117\n",
      "iter=50 terr=0.02803 serr=0.36891 act=1154363 obj=34714.66716 diff=0.00103\n",
      "iter=51 terr=0.02767 serr=0.36515 act=1154363 obj=34685.02875 diff=0.00085\n",
      "iter=52 terr=0.02684 serr=0.35762 act=1154363 obj=34648.82692 diff=0.00104\n",
      "iter=53 terr=0.02645 serr=0.35585 act=1154363 obj=34619.88802 diff=0.00084\n",
      "iter=54 terr=0.02628 serr=0.35275 act=1154363 obj=34602.80247 diff=0.00049\n",
      "iter=55 terr=0.02552 serr=0.34632 act=1154363 obj=34591.26315 diff=0.00033\n",
      "iter=56 terr=0.02592 serr=0.35009 act=1154363 obj=34576.77318 diff=0.00042\n",
      "iter=57 terr=0.02597 serr=0.35142 act=1154363 obj=34563.85829 diff=0.00037\n",
      "iter=58 terr=0.02585 serr=0.34987 act=1154363 obj=34556.80022 diff=0.00020\n",
      "iter=59 terr=0.02548 serr=0.34632 act=1154363 obj=34543.78331 diff=0.00038\n",
      "iter=60 terr=0.02496 serr=0.34057 act=1154363 obj=34535.98342 diff=0.00023\n",
      "iter=61 terr=0.02511 serr=0.34190 act=1154363 obj=34530.61998 diff=0.00016\n",
      "iter=62 terr=0.02524 serr=0.34278 act=1154363 obj=34526.53331 diff=0.00012\n",
      "iter=63 terr=0.02503 serr=0.34212 act=1154363 obj=34520.51715 diff=0.00017\n",
      "iter=64 terr=0.02416 serr=0.33149 act=1154363 obj=34519.20871 diff=0.00004\n",
      "iter=65 terr=0.02418 serr=0.33237 act=1154363 obj=34509.07030 diff=0.00029\n",
      "iter=66 terr=0.02435 serr=0.33415 act=1154363 obj=34506.43286 diff=0.00008\n",
      "iter=67 terr=0.02421 serr=0.33237 act=1154363 obj=34504.22947 diff=0.00006\n",
      "iter=68 terr=0.02410 serr=0.33171 act=1154363 obj=34501.49455 diff=0.00008\n",
      "\n",
      "Done!853.88 s\n",
      "\n"
     ]
    }
   ],
   "source": [
    "# POS Training using Dataset\n",
    "! ./CRF++-0.58/crf_learn ./POS/template_pos ./POS/hindi_pos_train.txt ./POS/hindi_pos_model"
   ]
  },
  {
   "cell_type": "code",
   "execution_count": 4,
   "id": "b5002734-de21-4a5b-b920-2b36a91e3082",
   "metadata": {},
   "outputs": [
    {
     "name": "stderr",
     "output_type": "stream",
     "text": [
      "/usr/lib/python3/dist-packages/scipy/__init__.py:146: UserWarning: A NumPy version >=1.17.3 and <1.25.0 is required for this version of SciPy (detected version 1.26.4\n",
      "  warnings.warn(f\"A NumPy version >={np_minversion} and <{np_maxversion}\"\n"
     ]
    }
   ],
   "source": [
    "#The Data for NER from Hugging Face\n",
    "\n",
    "from datasets import load_dataset\n",
    "hindi_dataset = load_dataset(\"ai4bharat/naamapadam\",'hi')"
   ]
  },
  {
   "cell_type": "code",
   "execution_count": 5,
   "id": "4643e5ee-15ef-42ca-8c49-e5200b4c0c2a",
   "metadata": {},
   "outputs": [
    {
     "data": {
      "text/plain": [
       "DatasetDict({\n",
       "    train: Dataset({\n",
       "        features: ['tokens', 'ner_tags'],\n",
       "        num_rows: 985787\n",
       "    })\n",
       "    test: Dataset({\n",
       "        features: ['tokens', 'ner_tags'],\n",
       "        num_rows: 867\n",
       "    })\n",
       "    validation: Dataset({\n",
       "        features: ['tokens', 'ner_tags'],\n",
       "        num_rows: 13460\n",
       "    })\n",
       "})"
      ]
     },
     "execution_count": 5,
     "metadata": {},
     "output_type": "execute_result"
    }
   ],
   "source": [
    "hindi_dataset\n",
    "#Data Format of Collected Data to work on them"
   ]
  },
  {
   "cell_type": "code",
   "execution_count": 6,
   "id": "d9241e3c-29cf-40a2-8272-b14777224ae3",
   "metadata": {},
   "outputs": [
    {
     "data": {
      "text/plain": [
       "datasets.arrow_dataset.Dataset"
      ]
     },
     "execution_count": 6,
     "metadata": {},
     "output_type": "execute_result"
    }
   ],
   "source": [
    "hindi_dataset['train'].features\n",
    "hindi_dataset['train'].info\n",
    "type(hindi_dataset['train'])\n",
    "#Dataset informations like Tags to Extract the Data"
   ]
  },
  {
   "cell_type": "code",
   "execution_count": 7,
   "id": "6e5930be-98e8-4b73-a9f1-4cd9c42c9204",
   "metadata": {
    "jupyter": {
     "source_hidden": true
    }
   },
   "outputs": [
    {
     "name": "stdout",
     "output_type": "stream",
     "text": [
      "                                                   tokens  \\\n",
      "0       [सेक्टर, 55/56, के, एसएचओ, अरविंद, कुमार, ने, ...   \n",
      "1       [मध्य, रेलवे, एवं, पश्चिम, रेलवे, के, अधिकारिय...   \n",
      "2       [जाने, -, माने, वैज्ञानिक, सिवान, के, ., को, भ...   \n",
      "3            [यह, सूर्य, ग्रहण, भारत, में, भी, दिखेगा, .]   \n",
      "4       [ज्ञापन, में, कहा, गया, है, कि, सीपीडब्ल्यूडी,...   \n",
      "...                                                   ...   \n",
      "985782  [पाकिस्तानी, टीवी, होस्ट, नादिया, खान, ने, हॉल...   \n",
      "985783  [भारतीय, आयात, -, निर्यात, बैंक, ,, भारतीय, स्...   \n",
      "985784  [दिल्ली, की, पटियाला, हाउस, अदालत, ने, IRCTC, ...   \n",
      "985785  [आधारभूत, सुविधाओं, के, कार्यदल, ने, भारतीय, ह...   \n",
      "985786  [उनके, 27, साल, के, बेटे, जीवा, को, भी, दिल, क...   \n",
      "\n",
      "                                                 ner_tags  \n",
      "0       [0, 0, 0, 0, 1, 2, 0, 0, 0, 0, 0, 0, 0, 0, 0, ...  \n",
      "1       [3, 4, 4, 4, 4, 0, 0, 0, 0, 0, 0, 3, 4, 0, 3, ...  \n",
      "2       [0, 0, 0, 0, 1, 2, 0, 0, 3, 4, 4, 4, 0, 0, 0, ...  \n",
      "3                                [0, 0, 0, 5, 0, 0, 0, 0]  \n",
      "4       [0, 0, 0, 0, 0, 0, 3, 0, 0, 0, 0, 0, 0, 0, 0, ...  \n",
      "...                                                   ...  \n",
      "985782   [0, 0, 0, 1, 2, 0, 5, 0, 0, 0, 0, 0, 0, 0, 0, 0]  \n",
      "985783  [0, 3, 0, 0, 0, 0, 0, 3, 0, 0, 3, 4, 4, 0, 3, ...  \n",
      "985784  [5, 0, 3, 4, 4, 0, 3, 0, 0, 0, 0, 0, 0, 0, 5, ...  \n",
      "985785  [0, 3, 4, 4, 0, 5, 0, 0, 0, 0, 0, 0, 0, 0, 0, ...  \n",
      "985786            [0, 0, 0, 0, 0, 1, 0, 0, 0, 0, 0, 0, 0]  \n",
      "\n",
      "[985787 rows x 2 columns]\n"
     ]
    }
   ],
   "source": [
    "hindi_dataset['train'].data\n",
    "df = pandas.DataFrame(hindi_dataset['train'])\n",
    "print(df)\n",
    "#To Visualise the Data"
   ]
  },
  {
   "cell_type": "code",
   "execution_count": 8,
   "id": "fba7871f-9d7a-42cc-aad7-eae2341d4949",
   "metadata": {},
   "outputs": [],
   "source": [
    "hindi_train=hindi_dataset['train']\n",
    "#To make It easy to work with"
   ]
  },
  {
   "cell_type": "code",
   "execution_count": 9,
   "id": "972217a7-f5c6-44b4-8969-257a4189e7a3",
   "metadata": {},
   "outputs": [],
   "source": [
    "import json\n",
    "\n",
    "# Function to convert data into CoNLL format\n",
    "def convert_to_conll(data):\n",
    "    names=['O', 'B-PER', 'I-PER', 'B-ORG', 'I-ORG', 'B-LOC', 'I-LOC']\n",
    "    conll_lines = []\n",
    "    count=0\n",
    "    for sample in data:\n",
    "        tokens = sample['tokens']\n",
    "        ner_tags = sample['ner_tags']\n",
    "\n",
    "        count=count+1\n",
    "        for token, ner_tag in zip(tokens, ner_tags):\n",
    "            conll_lines.append(f\"{token}\\t{names[ner_tag]}\\n\")\n",
    "        conll_lines.append(\"\\n\")\n",
    "        if(count==5000):\n",
    "            break;\n",
    "        #One can set How much data to process changing count\n",
    "        \n",
    "    return conll_lines\n",
    "\n",
    "# Convert the data to CoNLL format\n",
    "conll_data = convert_to_conll(hindi_train)\n",
    "\n",
    "# Write the CoNLL data to a file\n",
    "with open(\"./NER/train.txt\", \"w\") as f:\n",
    "    f.writelines(conll_data)\n"
   ]
  },
  {
   "cell_type": "code",
   "execution_count": 10,
   "id": "3a083169-ac44-49b7-abbf-18694b8fb184",
   "metadata": {},
   "outputs": [],
   "source": [
    "hindi_test=hindi_dataset['test']"
   ]
  },
  {
   "cell_type": "code",
   "execution_count": 11,
   "id": "3eeb6426-6628-4f68-a5f3-42fc952e6588",
   "metadata": {},
   "outputs": [],
   "source": [
    "import json\n",
    "\n",
    "# Define a function to convert data into CoNLL format\n",
    "def convert_to_conll(data):\n",
    "    names=['O', 'B-PER', 'I-PER', 'B-ORG', 'I-ORG', 'B-LOC', 'I-LOC']\n",
    "    conll_lines = []\n",
    "    for sample in data:\n",
    "        tokens = sample['tokens']\n",
    "        ner_tags = sample['ner_tags']\n",
    "\n",
    "        for token, ner_tag in zip(tokens, ner_tags):\n",
    "            conll_lines.append(f\"{token}\\t{names[ner_tag]}\\n\")\n",
    "        conll_lines.append(\"\\n\")\n",
    "\n",
    "    return conll_lines\n",
    "\n",
    "# Convert the data to CoNLL format\n",
    "conll_data = convert_to_conll(hindi_test)\n",
    "\n",
    "# Write the CoNLL data to a file\n",
    "with open(\"./NER/test.txt\", \"w\") as f:\n",
    "    f.writelines(conll_data)"
   ]
  },
  {
   "cell_type": "code",
   "execution_count": 12,
   "id": "652af0ba-4b3a-4ee8-8163-e2996c1505a3",
   "metadata": {},
   "outputs": [
    {
     "name": "stdout",
     "output_type": "stream",
     "text": [
      "CRF++: Yet Another CRF Tool Kit\n",
      "Copyright (C) 2005-2013 Taku Kudo, All rights reserved.\n",
      "\n",
      "reading training data: 100.. 200.. 300.. 400.. 500.. 600.. 700.. 800.. 900.. 1000.. 1100.. 1200.. 1300.. 1400.. 1500.. 1600.. 1700.. 1800.. 1900.. 2000.. 2100.. 2200.. 2300.. 2400.. 2500.. 2600.. 2700.. 2800.. 2900.. 3000.. 3100.. 3200.. 3300.. 3400.. 3500.. 3600.. 3700.. 3800.. 3900.. 4000.. 4100.. 4200.. 4300.. 4400.. 4500.. 4600.. 4700.. 4800.. 4900.. 5000.. \n",
      "Done!0.18 s\n",
      "\n",
      "Number of sentences: 5000\n",
      "Number of features:  328097\n",
      "Number of thread(s): 12\n",
      "Freq:                1\n",
      "eta:                 0.00010\n",
      "C:                   1.00000\n",
      "shrinking size:      20\n",
      "iter=0 terr=0.96675 serr=1.00000 act=328097 obj=221549.65411 diff=1.00000\n",
      "iter=1 terr=0.15861 serr=0.89900 act=328097 obj=207390.28060 diff=0.06391\n",
      "iter=2 terr=0.15861 serr=0.89900 act=328097 obj=161538.11130 diff=0.22109\n",
      "iter=3 terr=0.15485 serr=0.89460 act=328097 obj=104838.82398 diff=0.35100\n",
      "iter=4 terr=0.15091 serr=0.88080 act=328097 obj=91545.53356 diff=0.12680\n",
      "iter=5 terr=0.14502 serr=0.87720 act=328097 obj=80263.93024 diff=0.12323\n",
      "iter=6 terr=0.15312 serr=0.91720 act=328097 obj=74088.55112 diff=0.07694\n",
      "iter=7 terr=0.13296 serr=0.86040 act=328097 obj=67821.96524 diff=0.08458\n",
      "iter=8 terr=0.12758 serr=0.84640 act=328097 obj=63908.32674 diff=0.05770\n",
      "iter=9 terr=0.12316 serr=0.83500 act=328097 obj=60986.75388 diff=0.04572\n",
      "iter=10 terr=0.11304 serr=0.79880 act=328097 obj=58528.28026 diff=0.04031\n",
      "iter=11 terr=0.11297 serr=0.80220 act=328097 obj=56313.55941 diff=0.03784\n",
      "iter=12 terr=0.11052 serr=0.79660 act=328097 obj=54773.10209 diff=0.02735\n",
      "iter=13 terr=0.10808 serr=0.78640 act=328097 obj=53056.77349 diff=0.03134\n",
      "iter=14 terr=0.10681 serr=0.78140 act=328097 obj=51409.74644 diff=0.03104\n",
      "iter=15 terr=0.10215 serr=0.76580 act=328097 obj=49628.05456 diff=0.03466\n",
      "iter=16 terr=0.09669 serr=0.73520 act=328097 obj=48028.58078 diff=0.03223\n",
      "iter=17 terr=0.09590 serr=0.74060 act=328097 obj=46926.79974 diff=0.02294\n",
      "iter=18 terr=0.09074 serr=0.70840 act=328097 obj=45571.21199 diff=0.02889\n",
      "iter=19 terr=0.08873 serr=0.69260 act=328097 obj=44347.11557 diff=0.02686\n",
      "iter=20 terr=0.08335 serr=0.68080 act=328097 obj=43180.46567 diff=0.02631\n",
      "iter=21 terr=0.08350 serr=0.67440 act=328097 obj=42605.79527 diff=0.01331\n",
      "iter=22 terr=0.08110 serr=0.66060 act=328097 obj=42110.22973 diff=0.01163\n",
      "iter=23 terr=0.07939 serr=0.65380 act=328097 obj=41468.69079 diff=0.01523\n",
      "iter=24 terr=0.07669 serr=0.64020 act=328097 obj=40886.12516 diff=0.01405\n",
      "iter=25 terr=0.07653 serr=0.65560 act=328097 obj=40771.01209 diff=0.00282\n",
      "iter=26 terr=0.07377 serr=0.62100 act=328097 obj=40046.29595 diff=0.01778\n",
      "iter=27 terr=0.07250 serr=0.61440 act=328097 obj=39854.03190 diff=0.00480\n",
      "iter=28 terr=0.07085 serr=0.60940 act=328097 obj=39573.21477 diff=0.00705\n",
      "iter=29 terr=0.06924 serr=0.60600 act=328097 obj=39390.67217 diff=0.00461\n",
      "iter=30 terr=0.06786 serr=0.59200 act=328097 obj=39119.28820 diff=0.00689\n",
      "iter=31 terr=0.06710 serr=0.58560 act=328097 obj=38966.88802 diff=0.00390\n",
      "iter=32 terr=0.06637 serr=0.58060 act=328097 obj=38814.92313 diff=0.00390\n",
      "iter=33 terr=0.06304 serr=0.56520 act=328097 obj=38682.61182 diff=0.00341\n",
      "iter=34 terr=0.06415 serr=0.56920 act=328097 obj=38541.80666 diff=0.00364\n",
      "iter=35 terr=0.06406 serr=0.56760 act=328097 obj=38480.60772 diff=0.00159\n",
      "iter=36 terr=0.06331 serr=0.56340 act=328097 obj=38342.37623 diff=0.00359\n",
      "iter=37 terr=0.06180 serr=0.54940 act=328097 obj=38289.00466 diff=0.00139\n",
      "iter=38 terr=0.06125 serr=0.54960 act=328097 obj=38162.48499 diff=0.00330\n",
      "iter=39 terr=0.06013 serr=0.54500 act=328097 obj=38089.08953 diff=0.00192\n",
      "iter=40 terr=0.05996 serr=0.54740 act=328097 obj=38022.85434 diff=0.00174\n",
      "iter=41 terr=0.05783 serr=0.53100 act=328097 obj=37968.08200 diff=0.00144\n",
      "iter=42 terr=0.05836 serr=0.53520 act=328097 obj=37895.59928 diff=0.00191\n",
      "iter=43 terr=0.05878 serr=0.53580 act=328097 obj=37864.11307 diff=0.00083\n",
      "iter=44 terr=0.05860 serr=0.53620 act=328097 obj=37814.38237 diff=0.00131\n",
      "iter=45 terr=0.05795 serr=0.52860 act=328097 obj=37744.97006 diff=0.00184\n",
      "iter=46 terr=0.05620 serr=0.52360 act=328097 obj=37765.76757 diff=0.00055\n",
      "iter=47 terr=0.05702 serr=0.52660 act=328097 obj=37713.27910 diff=0.00139\n",
      "iter=48 terr=0.05661 serr=0.52120 act=328097 obj=37685.12298 diff=0.00075\n",
      "iter=49 terr=0.05669 serr=0.52200 act=328097 obj=37663.44307 diff=0.00058\n",
      "iter=50 terr=0.05672 serr=0.52140 act=328097 obj=37642.30409 diff=0.00056\n",
      "iter=51 terr=0.05717 serr=0.52580 act=328097 obj=37624.47327 diff=0.00047\n",
      "iter=52 terr=0.05686 serr=0.52360 act=328097 obj=37607.84306 diff=0.00044\n",
      "iter=53 terr=0.05669 serr=0.52280 act=328097 obj=37594.89373 diff=0.00034\n",
      "iter=54 terr=0.05670 serr=0.52280 act=328097 obj=37584.50729 diff=0.00028\n",
      "iter=55 terr=0.05745 serr=0.52720 act=328097 obj=37573.56105 diff=0.00029\n",
      "iter=56 terr=0.05676 serr=0.52380 act=328097 obj=37564.90883 diff=0.00023\n",
      "iter=57 terr=0.05656 serr=0.52340 act=328097 obj=37558.28181 diff=0.00018\n",
      "iter=58 terr=0.05658 serr=0.52280 act=328097 obj=37551.63594 diff=0.00018\n",
      "iter=59 terr=0.05709 serr=0.52880 act=328097 obj=37547.70364 diff=0.00010\n",
      "iter=60 terr=0.05664 serr=0.52360 act=328097 obj=37538.28880 diff=0.00025\n",
      "iter=61 terr=0.05666 serr=0.52500 act=328097 obj=37535.68204 diff=0.00007\n",
      "iter=62 terr=0.05673 serr=0.52440 act=328097 obj=37531.32555 diff=0.00012\n",
      "iter=63 terr=0.05771 serr=0.52980 act=328097 obj=37531.90423 diff=0.00002\n",
      "iter=64 terr=0.05749 serr=0.52800 act=328097 obj=37528.72449 diff=0.00008\n",
      "iter=65 terr=0.05684 serr=0.52500 act=328097 obj=37525.39440 diff=0.00009\n",
      "\n",
      "Done!33.73 s\n",
      "\n"
     ]
    }
   ],
   "source": [
    "! ./CRF++-0.58/crf_learn ./NER/template_NER ./NER/train.txt  ./NER/hindi_NER_model\n"
   ]
  },
  {
   "cell_type": "code",
   "execution_count": null,
   "id": "8da52d28-fbdf-45b0-8117-7eeb9ac92d56",
   "metadata": {},
   "outputs": [],
   "source": []
  }
 ],
 "metadata": {
  "kernelspec": {
   "display_name": "Python 3 (ipykernel)",
   "language": "python",
   "name": "python3"
  },
  "language_info": {
   "codemirror_mode": {
    "name": "ipython",
    "version": 3
   },
   "file_extension": ".py",
   "mimetype": "text/x-python",
   "name": "python",
   "nbconvert_exporter": "python",
   "pygments_lexer": "ipython3",
   "version": "3.10.12"
  }
 },
 "nbformat": 4,
 "nbformat_minor": 5
}

{
 "cells": [
  {
   "cell_type": "code",
   "execution_count": 1,
   "id": "ebf5bae1-8f91-4403-85fb-eadfe6fd451b",
   "metadata": {},
   "outputs": [],
   "source": [
    "input_filename= \"./Data/News.txt\"\n",
    "output_filename=\"./Data/Tokenized.txt\""
   ]
  },
  {
   "cell_type": "code",
   "execution_count": 2,
   "id": "f52806ef-8da2-4d28-ad41-0f17d7e6b34c",
   "metadata": {},
   "outputs": [
    {
     "name": "stdout",
     "output_type": "stream",
     "text": [
      "Data saved to ./Data/Tokenized.txt\n"
     ]
    }
   ],
   "source": [
    "def tokenize_to_conll(text):\n",
    "    sentences = text.split(\"।\")  # Split text into sentences based on full stop\n",
    "\n",
    "    conll_data = \"\"\n",
    "    sentence_count = 0\n",
    "    for sentence in sentences:\n",
    "        words = sentence.split()  # Split sentence into words\n",
    "        if len(words) == 0:\n",
    "            continue\n",
    "\n",
    "        sentence_count += 1\n",
    "        for i, word in enumerate(words, start=1):\n",
    "            # For each word, create a CoNLL formatted line\n",
    "            conll_data += f\"{word}\\n\"\n",
    "        conll_data += \"\\n\"  # Separate sentences with empty line\n",
    "    return conll_data\n",
    "\n",
    "with open(input_filename, \"r\", encoding=\"utf-8\") as file:\n",
    "    hindi_text = file.read()\n",
    "\n",
    "conll_output = tokenize_to_conll(hindi_text)\n",
    "\n",
    "with open(output_filename, \"w\", encoding=\"utf-8\") as file:\n",
    "    file.write(conll_output)\n",
    "\n",
    "print(\"Data saved to\", output_filename)\n",
    "\n",
    "#This Function Tokenize complete data but Punctuation, can be be removed using Regex or One can do Manually Finding and replacing each\n",
    "#Punctuation with nothing"
   ]
  },
  {
   "cell_type": "code",
   "execution_count": 16,
   "id": "359883a5-473a-49b1-aa9c-96506aed60d2",
   "metadata": {},
   "outputs": [],
   "source": [
    "! ./CRF++-0.58/crf_test -m ./POS/hindi_pos_model ./Data/Tokenized.txt > ./output_pos.txt"
   ]
  },
  {
   "cell_type": "code",
   "execution_count": 17,
   "id": "f75d409c-ad70-4107-a01d-0a9bdace57ee",
   "metadata": {},
   "outputs": [],
   "source": [
    "! ./CRF++-0.58/crf_test -m ./NER/hindi_NER_model ./output_pos.txt > ./output_NER.txt"
   ]
  },
  {
   "cell_type": "code",
   "execution_count": 12,
   "id": "eb6a3998-0cbb-4210-a4bf-57a8ee7011d0",
   "metadata": {},
   "outputs": [
    {
     "name": "stdout",
     "output_type": "stream",
     "text": [
      "Matching count: 864\n",
      "Total entities: 19893\n",
      "Precision: 0.043432363142814054\n",
      "Recall: 1\n",
      "F1 Score: 0.08324902442549502\n"
     ]
    }
   ],
   "source": [
    "def count_matching(input_filename):\n",
    "    with open(input_filename, \"r\", encoding=\"utf-8\") as file:\n",
    "        lines = file.readlines()\n",
    "\n",
    "    matching_count = 0\n",
    "    total_entities = 0\n",
    "\n",
    "    for line in lines:\n",
    "        parts = line.strip().split(\"\\t\")\n",
    "        if len(parts) < 2:\n",
    "            matching_count += 1\n",
    "            continue\n",
    "\n",
    "        # Assuming NER output is in the last column\n",
    "        gold_ner = parts[-2]  # NER output from test data\n",
    "        model_ner = parts[-1]  # NER output from the model\n",
    "\n",
    "        if gold_ner == model_ner:\n",
    "            matching_count += 1\n",
    "\n",
    "        total_entities += 1\n",
    "\n",
    "    return matching_count, total_entities\n",
    "\n",
    "input_filename = \"./output_pos.txt\"\n",
    "matching_count, total_entities = count_matching(input_filename)\n",
    "\n",
    "print(f\"Matching count: {matching_count}\")\n",
    "print(f\"Total entities: {total_entities}\")\n",
    "\n",
    "#Our momdel generally give 0 False_Negatives, if cleaned properly\n",
    "TP=matching_count\n",
    "FP=total_entities-matching_count\n",
    "Precision=TP/total_entities\n",
    "Recall=1 #No False Negative\n",
    "F1=2*Precision*Recall/(Precision+Recall)\n",
    "print(f\"Precision: {Precision}\")\n",
    "print(f\"Recall: {Recall}\")\n",
    "print(f\"F1 Score: {F1}\")\n"
   ]
  },
  {
   "cell_type": "code",
   "execution_count": 13,
   "id": "cdf18f62-5aae-4cc0-947a-8edd5b528580",
   "metadata": {},
   "outputs": [
    {
     "name": "stdout",
     "output_type": "stream",
     "text": [
      "Matching count: 864\n",
      "Total entities: 19893\n",
      "Precision: 0.043432363142814054\n",
      "Recall: 1\n",
      "F1 Score: 0.08324902442549502\n"
     ]
    }
   ],
   "source": [
    "def count_matching_ner(input_filename):\n",
    "    with open(input_filename, \"r\", encoding=\"utf-8\") as file:\n",
    "        lines = file.readlines()\n",
    "\n",
    "    matching_count = 0\n",
    "    total_entities = 0\n",
    "\n",
    "    for line in lines:\n",
    "        parts = line.strip().split(\"\\t\")\n",
    "        if len(parts) < 2:\n",
    "            matching_count += 1\n",
    "            continue\n",
    "\n",
    "        # Assuming NER output is in the last column\n",
    "        gold_ner = parts[-2]  # NER output from test data\n",
    "        model_ner = parts[-1]  # NER output from the model\n",
    "\n",
    "        if gold_ner == model_ner:\n",
    "            matching_count += 1\n",
    "\n",
    "        total_entities += 1\n",
    "\n",
    "    return matching_count, total_entities\n",
    "\n",
    "input_filename = \"./output_NER.txt\"\n",
    "matching_count, total_entities = count_matching_ner(input_filename)\n",
    "\n",
    "print(f\"Matching count: {matching_count}\")\n",
    "print(f\"Total entities: {total_entities}\")\n",
    "\n",
    "#Our model generally give 0 False_Negatives, if cleaned properly\n",
    "TP=matching_count\n",
    "FP=total_entities-matching_count\n",
    "Precision=TP/total_entities\n",
    "Recall=1 #No False Negative\n",
    "F1=2*Precision*Recall/(Precision+Recall)\n",
    "print(f\"Precision: {Precision}\")\n",
    "print(f\"Recall: {Recall}\")\n",
    "print(f\"F1 Score: {F1}\")\n"
   ]
  },
  {
   "cell_type": "code",
   "execution_count": 7,
   "id": "2767d0b8-5504-4fae-8a90-8b9f2926d88e",
   "metadata": {},
   "outputs": [],
   "source": [
    "#If the Above Data are not annotated so need to calculate Precision, Recall, F1 Score Manually"
   ]
  }
 ],
 "metadata": {
  "kernelspec": {
   "display_name": "Python 3 (ipykernel)",
   "language": "python",
   "name": "python3"
  },
  "language_info": {
   "codemirror_mode": {
    "name": "ipython",
    "version": 3
   },
   "file_extension": ".py",
   "mimetype": "text/x-python",
   "name": "python",
   "nbconvert_exporter": "python",
   "pygments_lexer": "ipython3",
   "version": "3.10.12"
  }
 },
 "nbformat": 4,
 "nbformat_minor": 5
}
